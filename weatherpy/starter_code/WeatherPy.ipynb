{
 "cells": [
  {
   "cell_type": "markdown",
   "metadata": {},
   "source": [
    "# WeatherPy\n",
    "----\n",
    "\n",
    "#### Note\n",
    "* Instructions have been included for each segment. You do not have to follow them exactly, but they are included to help you think through the steps."
   ]
  },
  {
   "cell_type": "code",
   "execution_count": 1,
   "metadata": {},
   "outputs": [
    {
     "name": "stdout",
     "output_type": "stream",
     "text": [
      "Requirement already satisfied: citipy in c:\\users\\kahsay\\anaconda3\\lib\\site-packages (0.0.5)\n",
      "Requirement already satisfied: kdtree>=0.12 in c:\\users\\kahsay\\anaconda3\\lib\\site-packages (from citipy) (0.16)\n",
      "Note: you may need to restart the kernel to use updated packages.\n"
     ]
    }
   ],
   "source": [
    "pip install citipy"
   ]
  },
  {
   "cell_type": "code",
   "execution_count": 2,
   "metadata": {
    "scrolled": true
   },
   "outputs": [],
   "source": [
    "# Dependencies and Setup\n",
    "import matplotlib.pyplot as plt\n",
    "import pandas as pd\n",
    "import numpy as np\n",
    "import requests\n",
    "import time\n",
    "from scipy.stats import linregress\n",
    "\n",
    "# Import API key\n",
    "from api_keys import weather_api_key\n",
    "\n",
    "# Incorporated citipy to determine city based on latitude and longitude\n",
    "from citipy import citipy\n",
    "\n",
    "# Output File (CSV)\n",
    "output_data_file = \"output_data/cities.csv\"\n",
    "\n",
    "# Range of latitudes and longitudes\n",
    "lat_range = (-90, 90)\n",
    "lng_range = (-180, 180)"
   ]
  },
  {
   "cell_type": "markdown",
   "metadata": {},
   "source": [
    "## Generate Cities List"
   ]
  },
  {
   "cell_type": "code",
   "execution_count": 3,
   "metadata": {},
   "outputs": [
    {
     "data": {
      "text/plain": [
       "613"
      ]
     },
     "execution_count": 3,
     "metadata": {},
     "output_type": "execute_result"
    }
   ],
   "source": [
    "# List for holding lat_lngs and cities\n",
    "lat_lngs = []\n",
    "cities = []\n",
    "\n",
    "# Create a set of random lat and lng combinations\n",
    "lats = np.random.uniform(low=-90.000, high=90.000, size=1500)\n",
    "lngs = np.random.uniform(low=-180.000, high=180.000, size=1500)\n",
    "lat_lngs = zip(lats, lngs)\n",
    "\n",
    "# Identify nearest city for each lat, lng combination\n",
    "for lat_lng in lat_lngs:\n",
    "    city = citipy.nearest_city(lat_lng[0], lat_lng[1]).city_name\n",
    "    \n",
    "    # If the city is unique, then add it to a our cities list\n",
    "    if city not in cities:\n",
    "        cities.append(city)\n",
    "\n",
    "# Print the city count to confirm sufficient count\n",
    "len(cities)"
   ]
  },
  {
   "cell_type": "markdown",
   "metadata": {},
   "source": [
    "### Perform API Calls\n",
    "* Perform a weather check on each city using a series of successive API calls.\n",
    "* Include a print log of each city as it's being processed (with the city number and city name).\n"
   ]
  },
  {
   "cell_type": "code",
   "execution_count": 4,
   "metadata": {},
   "outputs": [],
   "source": [
    "# list of cities url to get the API"
   ]
  },
  {
   "cell_type": "markdown",
   "metadata": {},
   "source": [
    "### Convert Raw Data to DataFrame\n",
    "* Export the city data into a .csv.\n",
    "* Display the DataFrame"
   ]
  },
  {
   "cell_type": "code",
   "execution_count": 5,
   "metadata": {},
   "outputs": [
    {
     "name": "stdout",
     "output_type": "stream",
     "text": [
      "Started\n",
      "Processing Record 1 of Set 1 | lompoc\n",
      "Processing Record 2 of Set 1 | nikolskoye\n",
      "Processing Record 3 of Set 1 | kodiak\n",
      "Processing Record 4 of Set 1 | vaini\n",
      "Processing Record 5 of Set 1 | airai\n",
      "Processing Record 6 of Set 1 | aleksandrov gay\n",
      "Processing Record 7 of Set 1 | rikitea\n",
      "Processing Record 8 of Set 1 | ushuaia\n",
      "Processing Record 9 of Set 1 | rundu\n",
      "Processing Record 10 of Set 1 | joshimath\n",
      "Processing Record 11 of Set 1 | barrow\n",
      "Processing Record 12 of Set 1 | punta arenas\n",
      "Processing Record 13 of Set 1 | vardo\n",
      "Processing Record 14 of Set 1 | toliary\n",
      "City not found. Skipping...\n",
      "Processing Record 15 of Set 1 | mackay\n",
      "Processing Record 16 of Set 1 | aklavik\n",
      "Processing Record 17 of Set 1 | hithadhoo\n",
      "Processing Record 18 of Set 1 | paita\n",
      "Processing Record 19 of Set 1 | komsomolskiy\n",
      "Processing Record 20 of Set 1 | bandar-e lengeh\n",
      "Processing Record 21 of Set 1 | bilma\n",
      "Processing Record 22 of Set 1 | new norfolk\n",
      "Processing Record 23 of Set 1 | georgetown\n",
      "Processing Record 24 of Set 1 | nabire\n",
      "Processing Record 25 of Set 1 | gazojak\n",
      "Processing Record 26 of Set 1 | cape town\n",
      "Processing Record 27 of Set 1 | coro\n",
      "Processing Record 28 of Set 1 | taolanaro\n",
      "City not found. Skipping...\n",
      "Processing Record 29 of Set 1 | norman wells\n",
      "Processing Record 30 of Set 1 | yellowknife\n",
      "Processing Record 31 of Set 1 | naftah\n",
      "City not found. Skipping...\n",
      "Processing Record 32 of Set 1 | kapaa\n",
      "Processing Record 33 of Set 1 | mataura\n",
      "Processing Record 34 of Set 1 | jesus carranza\n",
      "Processing Record 35 of Set 1 | atuona\n",
      "Processing Record 36 of Set 1 | saint-philippe\n",
      "Processing Record 37 of Set 1 | kavieng\n",
      "Processing Record 38 of Set 1 | port blair\n",
      "Processing Record 39 of Set 1 | yerbogachen\n",
      "Processing Record 40 of Set 1 | tuktoyaktuk\n",
      "Processing Record 41 of Set 1 | upernavik\n",
      "Processing Record 42 of Set 1 | illoqqortoormiut\n",
      "City not found. Skipping...\n",
      "Processing Record 43 of Set 1 | palmerston\n",
      "Processing Record 44 of Set 1 | poum\n",
      "Processing Record 45 of Set 1 | kargil\n",
      "Processing Record 46 of Set 1 | hobart\n",
      "Processing Record 47 of Set 1 | broken hill\n",
      "Processing Record 48 of Set 1 | hermanus\n",
      "Processing Record 49 of Set 1 | kaitangata\n",
      "Processing Record 50 of Set 1 | darnah\n",
      "Processing Record 1 of Set 2 | jamestown\n",
      "Processing Record 2 of Set 2 | ahipara\n",
      "Processing Record 3 of Set 2 | provideniya\n",
      "Processing Record 4 of Set 2 | podgornoye\n",
      "Processing Record 5 of Set 2 | duz\n",
      "City not found. Skipping...\n",
      "Processing Record 6 of Set 2 | hilo\n",
      "Processing Record 7 of Set 2 | torbay\n",
      "Processing Record 8 of Set 2 | la ronge\n",
      "Processing Record 9 of Set 2 | changping\n",
      "Processing Record 10 of Set 2 | sawang daen din\n",
      "Processing Record 11 of Set 2 | geraldton\n",
      "Processing Record 12 of Set 2 | marcona\n",
      "City not found. Skipping...\n",
      "Processing Record 13 of Set 2 | calabozo\n",
      "Processing Record 14 of Set 2 | ribeira grande\n",
      "Processing Record 15 of Set 2 | busselton\n",
      "Processing Record 16 of Set 2 | tuatapere\n",
      "Processing Record 17 of Set 2 | taoudenni\n",
      "Processing Record 18 of Set 2 | codrington\n",
      "Processing Record 19 of Set 2 | ambon\n",
      "Processing Record 20 of Set 2 | meulaboh\n",
      "Processing Record 21 of Set 2 | dikson\n",
      "Processing Record 22 of Set 2 | harlingen\n",
      "Processing Record 23 of Set 2 | khatanga\n",
      "Processing Record 24 of Set 2 | trincomalee\n",
      "Processing Record 25 of Set 2 | ostrovnoy\n",
      "Processing Record 26 of Set 2 | albany\n",
      "Processing Record 27 of Set 2 | avera\n",
      "Processing Record 28 of Set 2 | port augusta\n",
      "Processing Record 29 of Set 2 | tura\n",
      "Processing Record 30 of Set 2 | hastings\n",
      "Processing Record 31 of Set 2 | akyab\n",
      "Processing Record 32 of Set 2 | majene\n",
      "Processing Record 33 of Set 2 | berlevag\n",
      "Processing Record 34 of Set 2 | arraial do cabo\n",
      "Processing Record 35 of Set 2 | bluff\n",
      "Processing Record 36 of Set 2 | nea apollonia\n",
      "Processing Record 37 of Set 2 | yangzhou\n",
      "Processing Record 38 of Set 2 | naze\n",
      "Processing Record 39 of Set 2 | tiksi\n",
      "Processing Record 40 of Set 2 | acapulco\n",
      "Processing Record 41 of Set 2 | avarua\n",
      "Processing Record 42 of Set 2 | mount gambier\n",
      "Processing Record 43 of Set 2 | garissa\n",
      "Processing Record 44 of Set 2 | san patricio\n",
      "Processing Record 45 of Set 2 | port alfred\n",
      "Processing Record 46 of Set 2 | chake chake\n",
      "Processing Record 47 of Set 2 | saleaula\n",
      "City not found. Skipping...\n",
      "Processing Record 48 of Set 2 | san jeronimito\n",
      "Processing Record 49 of Set 2 | juba\n",
      "Processing Record 50 of Set 2 | altamont\n",
      "Processing Record 1 of Set 3 | bredasdorp\n",
      "Processing Record 2 of Set 3 | shizuishan\n",
      "Processing Record 3 of Set 3 | faya\n",
      "Processing Record 4 of Set 3 | quelimane\n",
      "Processing Record 5 of Set 3 | arara\n",
      "Processing Record 6 of Set 3 | wangou\n",
      "Processing Record 7 of Set 3 | shache\n",
      "Processing Record 8 of Set 3 | coruripe\n",
      "Processing Record 9 of Set 3 | saskylakh\n",
      "Processing Record 10 of Set 3 | butaritari\n",
      "Processing Record 11 of Set 3 | caravelas\n",
      "Processing Record 12 of Set 3 | tekeli\n",
      "Processing Record 13 of Set 3 | beringovskiy\n",
      "Processing Record 14 of Set 3 | thompson\n",
      "Processing Record 15 of Set 3 | pevek\n",
      "Processing Record 16 of Set 3 | inhambane\n",
      "Processing Record 17 of Set 3 | qaanaaq\n",
      "Processing Record 18 of Set 3 | port elizabeth\n",
      "Processing Record 19 of Set 3 | puerto ayora\n",
      "Processing Record 20 of Set 3 | dhidhdhoo\n",
      "Processing Record 21 of Set 3 | luderitz\n",
      "Processing Record 22 of Set 3 | kahului\n",
      "Processing Record 23 of Set 3 | mazagao\n",
      "Processing Record 24 of Set 3 | camalu\n",
      "Processing Record 25 of Set 3 | vostok\n",
      "Processing Record 26 of Set 3 | pirovskoye\n",
      "Processing Record 27 of Set 3 | tukrah\n",
      "Processing Record 28 of Set 3 | nantucket\n",
      "Processing Record 29 of Set 3 | ebano\n",
      "City not found. Skipping...\n",
      "Processing Record 30 of Set 3 | samusu\n",
      "City not found. Skipping...\n",
      "Processing Record 31 of Set 3 | chuy\n",
      "Processing Record 32 of Set 3 | mecca\n",
      "Processing Record 33 of Set 3 | ilulissat\n",
      "Processing Record 34 of Set 3 | samalaeulu\n",
      "City not found. Skipping...\n",
      "Processing Record 35 of Set 3 | itoman\n",
      "Processing Record 36 of Set 3 | saint-joseph\n",
      "Processing Record 37 of Set 3 | hunza\n",
      "City not found. Skipping...\n",
      "Processing Record 38 of Set 3 | warrington\n",
      "Processing Record 39 of Set 3 | havoysund\n",
      "Processing Record 40 of Set 3 | cherskiy\n",
      "Processing Record 41 of Set 3 | east london\n",
      "Processing Record 42 of Set 3 | stoyba\n",
      "City not found. Skipping...\n",
      "Processing Record 43 of Set 3 | shelburne\n",
      "Processing Record 44 of Set 3 | marawi\n",
      "Processing Record 45 of Set 3 | carnarvon\n",
      "Processing Record 46 of Set 3 | porto novo\n",
      "Processing Record 47 of Set 3 | cabedelo\n",
      "Processing Record 48 of Set 3 | zhigansk\n",
      "Processing Record 49 of Set 3 | ancud\n",
      "Processing Record 50 of Set 3 | pag\n",
      "Processing Record 1 of Set 4 | novaya igirma\n",
      "Processing Record 2 of Set 4 | butajira\n",
      "Processing Record 3 of Set 4 | mys shmidta\n",
      "City not found. Skipping...\n",
      "Processing Record 4 of Set 4 | tidore\n",
      "City not found. Skipping...\n",
      "Processing Record 5 of Set 4 | saint george\n",
      "Processing Record 6 of Set 4 | tongeren\n",
      "Processing Record 7 of Set 4 | luocheng\n",
      "Processing Record 8 of Set 4 | pafos\n",
      "Processing Record 9 of Set 4 | chokurdakh\n",
      "Processing Record 10 of Set 4 | te anau\n",
      "Processing Record 11 of Set 4 | kavaratti\n",
      "Processing Record 12 of Set 4 | bolivar\n",
      "Processing Record 13 of Set 4 | phuket\n",
      "Processing Record 14 of Set 4 | tezu\n",
      "Processing Record 15 of Set 4 | yanan\n",
      "City not found. Skipping...\n",
      "Processing Record 16 of Set 4 | zandvoort\n",
      "Processing Record 17 of Set 4 | aflu\n",
      "City not found. Skipping...\n",
      "Processing Record 18 of Set 4 | touros\n",
      "Processing Record 19 of Set 4 | bambanglipuro\n",
      "Processing Record 20 of Set 4 | souillac\n",
      "Processing Record 21 of Set 4 | pipar\n",
      "Processing Record 22 of Set 4 | agadez\n",
      "Processing Record 23 of Set 4 | longyearbyen\n",
      "Processing Record 24 of Set 4 | rondonopolis\n",
      "Processing Record 25 of Set 4 | huarmey\n",
      "Processing Record 26 of Set 4 | victoria\n",
      "Processing Record 27 of Set 4 | grand river south east\n",
      "City not found. Skipping...\n",
      "Processing Record 28 of Set 4 | yaan\n",
      "Processing Record 29 of Set 4 | hualmay\n",
      "Processing Record 30 of Set 4 | neiafu\n",
      "Processing Record 31 of Set 4 | washington\n",
      "Processing Record 32 of Set 4 | antofagasta\n",
      "Processing Record 33 of Set 4 | redlands\n",
      "Processing Record 34 of Set 4 | maragogi\n",
      "Processing Record 35 of Set 4 | alugan\n",
      "Processing Record 36 of Set 4 | bengkulu\n",
      "Processing Record 37 of Set 4 | puerto quijarro\n",
      "Processing Record 38 of Set 4 | belushya guba\n",
      "City not found. Skipping...\n",
      "Processing Record 39 of Set 4 | dargaville\n"
     ]
    },
    {
     "name": "stdout",
     "output_type": "stream",
     "text": [
      "Processing Record 40 of Set 4 | iralaya\n",
      "Processing Record 41 of Set 4 | vestmannaeyjar\n",
      "Processing Record 42 of Set 4 | cabo san lucas\n",
      "Processing Record 43 of Set 4 | furano\n",
      "Processing Record 44 of Set 4 | riyadh\n",
      "Processing Record 45 of Set 4 | pisco\n",
      "Processing Record 46 of Set 4 | isangel\n",
      "Processing Record 47 of Set 4 | soure\n",
      "Processing Record 48 of Set 4 | hasaki\n",
      "Processing Record 49 of Set 4 | turayf\n",
      "Processing Record 50 of Set 4 | valdosta\n",
      "Processing Record 1 of Set 5 | irmo\n",
      "Processing Record 2 of Set 5 | lufilufi\n",
      "Processing Record 3 of Set 5 | ajdabiya\n",
      "Processing Record 4 of Set 5 | port macquarie\n",
      "Processing Record 5 of Set 5 | tsihombe\n",
      "City not found. Skipping...\n",
      "Processing Record 6 of Set 5 | znamenskoye\n",
      "Processing Record 7 of Set 5 | sterlibashevo\n",
      "Processing Record 8 of Set 5 | attawapiskat\n",
      "City not found. Skipping...\n",
      "Processing Record 9 of Set 5 | hami\n",
      "Processing Record 10 of Set 5 | puerto leguizamo\n",
      "Processing Record 11 of Set 5 | grindavik\n",
      "Processing Record 12 of Set 5 | robertsport\n",
      "Processing Record 13 of Set 5 | senno\n",
      "Processing Record 14 of Set 5 | mar del plata\n",
      "Processing Record 15 of Set 5 | kabalo\n",
      "Processing Record 16 of Set 5 | sarangani\n",
      "Processing Record 17 of Set 5 | yar-sale\n",
      "Processing Record 18 of Set 5 | dasoguz\n",
      "Processing Record 19 of Set 5 | tual\n",
      "Processing Record 20 of Set 5 | bubaque\n",
      "Processing Record 21 of Set 5 | nahrin\n",
      "Processing Record 22 of Set 5 | sentyabrskiy\n",
      "City not found. Skipping...\n",
      "Processing Record 23 of Set 5 | babanusah\n",
      "City not found. Skipping...\n",
      "Processing Record 24 of Set 5 | severo-kurilsk\n",
      "Processing Record 25 of Set 5 | taseyevo\n",
      "Processing Record 26 of Set 5 | coahuayana\n",
      "Processing Record 27 of Set 5 | rawson\n",
      "Processing Record 28 of Set 5 | chabahar\n",
      "Processing Record 29 of Set 5 | la union\n",
      "Processing Record 30 of Set 5 | mount isa\n",
      "Processing Record 31 of Set 5 | amderma\n",
      "City not found. Skipping...\n",
      "Processing Record 32 of Set 5 | namatanai\n",
      "Processing Record 33 of Set 5 | nanortalik\n",
      "Processing Record 34 of Set 5 | castro\n",
      "Processing Record 35 of Set 5 | mehamn\n",
      "Processing Record 36 of Set 5 | oistins\n",
      "Processing Record 37 of Set 5 | bow island\n",
      "Processing Record 38 of Set 5 | saint-georges\n",
      "Processing Record 39 of Set 5 | dalvik\n",
      "Processing Record 40 of Set 5 | fortuna\n",
      "Processing Record 41 of Set 5 | longjiang\n",
      "Processing Record 42 of Set 5 | lagoa\n",
      "Processing Record 43 of Set 5 | teluknaga\n",
      "Processing Record 44 of Set 5 | fairbanks\n",
      "Processing Record 45 of Set 5 | alofi\n",
      "Processing Record 46 of Set 5 | schladming\n",
      "Processing Record 47 of Set 5 | colborne\n",
      "Processing Record 48 of Set 5 | angra\n",
      "City not found. Skipping...\n",
      "Processing Record 49 of Set 5 | katangli\n",
      "Processing Record 50 of Set 5 | hutchinson\n",
      "Processing Record 1 of Set 6 | labuhan\n",
      "Processing Record 2 of Set 6 | roald\n",
      "Processing Record 3 of Set 6 | port moresby\n",
      "Processing Record 4 of Set 6 | ust-ishim\n",
      "Processing Record 5 of Set 6 | lugovoy\n",
      "Processing Record 6 of Set 6 | puerto del rosario\n",
      "Processing Record 7 of Set 6 | broome\n",
      "Processing Record 8 of Set 6 | cartagena\n",
      "Processing Record 9 of Set 6 | baffa\n",
      "Processing Record 10 of Set 6 | san jose\n",
      "Processing Record 11 of Set 6 | semnan\n",
      "Processing Record 12 of Set 6 | maceio\n",
      "Processing Record 13 of Set 6 | sambava\n",
      "Processing Record 14 of Set 6 | ouallam\n",
      "Processing Record 15 of Set 6 | faanui\n",
      "Processing Record 16 of Set 6 | divnomorskoye\n",
      "Processing Record 17 of Set 6 | uige\n",
      "Processing Record 18 of Set 6 | pathein\n",
      "Processing Record 19 of Set 6 | moerai\n",
      "Processing Record 20 of Set 6 | henties bay\n",
      "Processing Record 21 of Set 6 | huaihua\n",
      "Processing Record 22 of Set 6 | comodoro rivadavia\n",
      "Processing Record 23 of Set 6 | sataua\n",
      "City not found. Skipping...\n",
      "Processing Record 24 of Set 6 | abu zabad\n",
      "Processing Record 25 of Set 6 | shafranovo\n",
      "Processing Record 26 of Set 6 | barentsburg\n",
      "City not found. Skipping...\n",
      "Processing Record 27 of Set 6 | tasiilaq\n",
      "Processing Record 28 of Set 6 | coquimbo\n",
      "Processing Record 29 of Set 6 | constitucion\n",
      "Processing Record 30 of Set 6 | ahuimanu\n",
      "Processing Record 31 of Set 6 | makhachkala\n",
      "Processing Record 32 of Set 6 | panzhihua\n",
      "Processing Record 33 of Set 6 | sao filipe\n",
      "Processing Record 34 of Set 6 | bethel\n",
      "Processing Record 35 of Set 6 | peterhead\n",
      "Processing Record 36 of Set 6 | karatau\n",
      "Processing Record 37 of Set 6 | tilichiki\n",
      "Processing Record 38 of Set 6 | ankang\n",
      "Processing Record 39 of Set 6 | swan hill\n",
      "Processing Record 40 of Set 6 | dingle\n",
      "Processing Record 41 of Set 6 | port lincoln\n",
      "Processing Record 42 of Set 6 | irece\n",
      "Processing Record 43 of Set 6 | pemangkat\n",
      "Processing Record 44 of Set 6 | tullahoma\n",
      "Processing Record 45 of Set 6 | cidreira\n",
      "Processing Record 46 of Set 6 | phan thiet\n",
      "Processing Record 47 of Set 6 | russell\n",
      "Processing Record 48 of Set 6 | omboue\n",
      "Processing Record 49 of Set 6 | spirit river\n",
      "Processing Record 50 of Set 6 | tomatlan\n",
      "Processing Record 1 of Set 7 | waiouru\n",
      "Processing Record 2 of Set 7 | gamba\n",
      "Processing Record 3 of Set 7 | husavik\n",
      "Processing Record 4 of Set 7 | raudeberg\n",
      "Processing Record 5 of Set 7 | brewster\n",
      "Processing Record 6 of Set 7 | clyde river\n",
      "Processing Record 7 of Set 7 | esperance\n",
      "Processing Record 8 of Set 7 | solvychegodsk\n",
      "Processing Record 9 of Set 7 | plettenberg bay\n",
      "Processing Record 10 of Set 7 | baherden\n",
      "Processing Record 11 of Set 7 | leh\n",
      "Processing Record 12 of Set 7 | tabas\n",
      "Processing Record 13 of Set 7 | tvedestrand\n",
      "Processing Record 14 of Set 7 | penzance\n",
      "Processing Record 15 of Set 7 | hobyo\n",
      "Processing Record 16 of Set 7 | anadyr\n",
      "Processing Record 17 of Set 7 | blind river\n",
      "Processing Record 18 of Set 7 | kalomo\n",
      "City not found. Skipping...\n",
      "Processing Record 19 of Set 7 | port hardy\n",
      "Processing Record 20 of Set 7 | daxian\n",
      "City not found. Skipping...\n",
      "Processing Record 21 of Set 7 | alamosa\n",
      "Processing Record 22 of Set 7 | lasa\n",
      "Processing Record 23 of Set 7 | camacha\n",
      "Processing Record 24 of Set 7 | belyy\n",
      "Processing Record 25 of Set 7 | geresk\n",
      "City not found. Skipping...\n",
      "Processing Record 26 of Set 7 | loandjili\n",
      "Processing Record 27 of Set 7 | vanderhoof\n",
      "Processing Record 28 of Set 7 | sur\n",
      "Processing Record 29 of Set 7 | bojnurd\n",
      "Processing Record 30 of Set 7 | pochutla\n",
      "Processing Record 31 of Set 7 | narsaq\n",
      "Processing Record 32 of Set 7 | vaitupu\n",
      "City not found. Skipping...\n",
      "Processing Record 33 of Set 7 | bereznik\n",
      "Processing Record 34 of Set 7 | tiarei\n",
      "Processing Record 35 of Set 7 | jacksonville\n",
      "Processing Record 36 of Set 7 | lebu\n",
      "Processing Record 37 of Set 7 | tamandare\n",
      "Processing Record 38 of Set 7 | ojinaga\n",
      "Processing Record 39 of Set 7 | newtonmore\n",
      "Processing Record 40 of Set 7 | anklesvar\n",
      "City not found. Skipping...\n",
      "Processing Record 41 of Set 7 | carbonia\n",
      "Processing Record 42 of Set 7 | mount pleasant\n",
      "Processing Record 43 of Set 7 | gniezno\n",
      "Processing Record 44 of Set 7 | palabuhanratu\n",
      "City not found. Skipping...\n",
      "Processing Record 45 of Set 7 | brownsville\n",
      "Processing Record 46 of Set 7 | george\n",
      "Processing Record 47 of Set 7 | tanout\n",
      "Processing Record 48 of Set 7 | lorengau\n",
      "Processing Record 49 of Set 7 | itimadpur\n",
      "Processing Record 50 of Set 7 | bandarbeyla\n",
      "Processing Record 1 of Set 8 | ondorhaan\n",
      "City not found. Skipping...\n",
      "Processing Record 2 of Set 8 | bathsheba\n",
      "Processing Record 3 of Set 8 | cap malheureux\n",
      "Processing Record 4 of Set 8 | bodmin\n",
      "Processing Record 5 of Set 8 | upington\n",
      "Processing Record 6 of Set 8 | north myrtle beach\n",
      "Processing Record 7 of Set 8 | wajima\n",
      "Processing Record 8 of Set 8 | dunedin\n",
      "Processing Record 9 of Set 8 | woodward\n",
      "Processing Record 10 of Set 8 | mahebourg\n",
      "Processing Record 11 of Set 8 | pervomayskoye\n",
      "Processing Record 12 of Set 8 | bentiu\n",
      "Processing Record 13 of Set 8 | laguna\n",
      "Processing Record 14 of Set 8 | gagnoa\n",
      "Processing Record 15 of Set 8 | nemuro\n",
      "Processing Record 16 of Set 8 | vao\n",
      "Processing Record 17 of Set 8 | deer lake\n",
      "Processing Record 18 of Set 8 | biella\n",
      "Processing Record 19 of Set 8 | lavrentiya\n",
      "Processing Record 20 of Set 8 | khonuu\n",
      "City not found. Skipping...\n",
      "Processing Record 21 of Set 8 | bara\n",
      "Processing Record 22 of Set 8 | nalut\n",
      "Processing Record 23 of Set 8 | sucre\n",
      "Processing Record 24 of Set 8 | felanitx\n",
      "Processing Record 25 of Set 8 | cuenca\n",
      "Processing Record 26 of Set 8 | itarema\n",
      "Processing Record 27 of Set 8 | namibe\n",
      "Processing Record 28 of Set 8 | umm lajj\n",
      "Processing Record 29 of Set 8 | grants\n"
     ]
    },
    {
     "name": "stdout",
     "output_type": "stream",
     "text": [
      "Processing Record 30 of Set 8 | gummidipundi\n",
      "Processing Record 31 of Set 8 | adrar\n",
      "Processing Record 32 of Set 8 | jalu\n",
      "Processing Record 33 of Set 8 | adilabad\n",
      "Processing Record 34 of Set 8 | praxedis guerrero\n",
      "Processing Record 35 of Set 8 | alice springs\n",
      "Processing Record 36 of Set 8 | haines junction\n",
      "Processing Record 37 of Set 8 | mvuma\n",
      "Processing Record 38 of Set 8 | chincha alta\n",
      "Processing Record 39 of Set 8 | sitka\n",
      "Processing Record 40 of Set 8 | tambura\n",
      "Processing Record 41 of Set 8 | bogorodskoye\n",
      "Processing Record 42 of Set 8 | yining\n",
      "Processing Record 43 of Set 8 | bogo\n",
      "Processing Record 44 of Set 8 | college\n",
      "Processing Record 45 of Set 8 | ust-nera\n",
      "Processing Record 46 of Set 8 | alyangula\n",
      "Processing Record 47 of Set 8 | cockburn town\n",
      "Processing Record 48 of Set 8 | muli\n",
      "Processing Record 49 of Set 8 | porangatu\n",
      "Processing Record 50 of Set 8 | troitskoye\n",
      "Processing Record 1 of Set 9 | xinmin\n",
      "Processing Record 2 of Set 9 | puerto madryn\n",
      "Processing Record 3 of Set 9 | bolshoy tsaryn\n",
      "City not found. Skipping...\n",
      "Processing Record 4 of Set 9 | karauzyak\n",
      "City not found. Skipping...\n",
      "Processing Record 5 of Set 9 | langham\n",
      "Processing Record 6 of Set 9 | cayenne\n",
      "Processing Record 7 of Set 9 | bayji\n",
      "Processing Record 8 of Set 9 | yulara\n",
      "Processing Record 9 of Set 9 | vila franca do campo\n",
      "Processing Record 10 of Set 9 | areka\n",
      "Processing Record 11 of Set 9 | brae\n",
      "Processing Record 12 of Set 9 | sal rei\n",
      "Processing Record 13 of Set 9 | fujin\n",
      "Processing Record 14 of Set 9 | bundaberg\n",
      "Processing Record 15 of Set 9 | cedral\n",
      "Processing Record 16 of Set 9 | tautira\n",
      "Processing Record 17 of Set 9 | tecolutla\n",
      "Processing Record 18 of Set 9 | elizabeth city\n",
      "Processing Record 19 of Set 9 | iqaluit\n",
      "Processing Record 20 of Set 9 | praia da vitoria\n",
      "Processing Record 21 of Set 9 | waycross\n",
      "Processing Record 22 of Set 9 | takoradi\n",
      "Processing Record 23 of Set 9 | pilar\n",
      "Processing Record 24 of Set 9 | proletarskiy\n",
      "Processing Record 25 of Set 9 | zlitan\n",
      "Processing Record 26 of Set 9 | hofn\n",
      "Processing Record 27 of Set 9 | praia\n",
      "Processing Record 28 of Set 9 | san felipe\n",
      "Processing Record 29 of Set 9 | allende\n",
      "Processing Record 30 of Set 9 | saldanha\n",
      "Processing Record 31 of Set 9 | male\n",
      "Processing Record 32 of Set 9 | biltine\n",
      "Processing Record 33 of Set 9 | beira\n",
      "Processing Record 34 of Set 9 | greenwood\n",
      "Processing Record 35 of Set 9 | matay\n",
      "Processing Record 36 of Set 9 | sept-iles\n",
      "Processing Record 37 of Set 9 | council bluffs\n",
      "Processing Record 38 of Set 9 | awjilah\n",
      "Processing Record 39 of Set 9 | dicabisagan\n",
      "Processing Record 40 of Set 9 | chapleau\n",
      "Processing Record 41 of Set 9 | savinka\n",
      "Processing Record 42 of Set 9 | cairns\n",
      "Processing Record 43 of Set 9 | dharampuri\n",
      "Processing Record 44 of Set 9 | bambous virieux\n",
      "Processing Record 45 of Set 9 | fare\n",
      "Processing Record 46 of Set 9 | high rock\n",
      "Processing Record 47 of Set 9 | kiruna\n",
      "Processing Record 48 of Set 9 | rakiv lis\n",
      "Processing Record 49 of Set 9 | tokmak\n",
      "Processing Record 50 of Set 9 | popondetta\n",
      "Processing Record 1 of Set 10 | alenquer\n",
      "Processing Record 2 of Set 10 | kalemie\n",
      "Processing Record 3 of Set 10 | hervey bay\n",
      "Processing Record 4 of Set 10 | carutapera\n",
      "Processing Record 5 of Set 10 | la rioja\n",
      "Processing Record 6 of Set 10 | mananjary\n",
      "Processing Record 7 of Set 10 | linares\n",
      "Processing Record 8 of Set 10 | armacao dos buzios\n",
      "City not found. Skipping...\n",
      "Processing Record 9 of Set 10 | purranque\n",
      "Processing Record 10 of Set 10 | charters towers\n",
      "Processing Record 11 of Set 10 | zhanaozen\n",
      "Processing Record 12 of Set 10 | zhezkazgan\n",
      "Processing Record 13 of Set 10 | tecoanapa\n",
      "Processing Record 14 of Set 10 | padang\n",
      "Processing Record 15 of Set 10 | morondava\n",
      "Processing Record 16 of Set 10 | mao\n",
      "Processing Record 17 of Set 10 | watsa\n",
      "Processing Record 18 of Set 10 | vilela\n",
      "Processing Record 19 of Set 10 | pedra azul\n",
      "Processing Record 20 of Set 10 | yanam\n",
      "Processing Record 21 of Set 10 | umm durman\n",
      "City not found. Skipping...\n",
      "Processing Record 22 of Set 10 | ternate\n",
      "Processing Record 23 of Set 10 | ikungi\n",
      "Processing Record 24 of Set 10 | kolokani\n",
      "Processing Record 25 of Set 10 | katsuura\n",
      "Processing Record 26 of Set 10 | sampit\n",
      "Processing Record 27 of Set 10 | sholokhove\n",
      "Processing Record 28 of Set 10 | pacific grove\n",
      "Processing Record 29 of Set 10 | kilindoni\n",
      "Processing Record 30 of Set 10 | toamasina\n",
      "Processing Record 31 of Set 10 | trofors\n",
      "Processing Record 32 of Set 10 | petropavlovsk-kamchatskiy\n",
      "Processing Record 33 of Set 10 | leningradskiy\n",
      "Processing Record 34 of Set 10 | nioro\n",
      "Processing Record 35 of Set 10 | chalisgaon\n",
      "Processing Record 36 of Set 10 | dorado\n",
      "Processing Record 37 of Set 10 | palmer\n",
      "Processing Record 38 of Set 10 | krasnomayskiy\n",
      "Processing Record 39 of Set 10 | cilegon\n",
      "Processing Record 40 of Set 10 | jiexiu\n",
      "Processing Record 41 of Set 10 | egvekinot\n",
      "Processing Record 42 of Set 10 | taltal\n",
      "Processing Record 43 of Set 10 | gat\n",
      "Processing Record 44 of Set 10 | tatishchevo\n",
      "Processing Record 45 of Set 10 | zhaotong\n",
      "Processing Record 46 of Set 10 | hovd\n",
      "Processing Record 47 of Set 10 | jurm\n",
      "Processing Record 48 of Set 10 | krasnopillya\n",
      "Processing Record 49 of Set 10 | kloulklubed\n",
      "Processing Record 50 of Set 10 | trinidad\n",
      "Processing Record 1 of Set 11 | mayahi\n",
      "Processing Record 2 of Set 11 | matara\n",
      "Processing Record 3 of Set 11 | jacareacanga\n",
      "Processing Record 4 of Set 11 | venice\n",
      "Processing Record 5 of Set 11 | icod de los vinos\n",
      "Processing Record 6 of Set 11 | sinnamary\n",
      "Processing Record 7 of Set 11 | monrovia\n",
      "Processing Record 8 of Set 11 | pyaozerskiy\n",
      "Processing Record 9 of Set 11 | nome\n",
      "Processing Record 10 of Set 11 | ndioum\n",
      "Processing Record 11 of Set 11 | pacifica\n",
      "Processing Record 12 of Set 11 | nola\n",
      "Processing Record 13 of Set 11 | marienburg\n",
      "Processing Record 14 of Set 11 | kindu\n",
      "Processing Record 15 of Set 11 | chanal\n",
      "Processing Record 16 of Set 11 | jiuquan\n",
      "Processing Record 17 of Set 11 | chagda\n",
      "City not found. Skipping...\n",
      "Processing Record 18 of Set 11 | teguise\n",
      "Processing Record 19 of Set 11 | batagay\n",
      "Processing Record 20 of Set 11 | totskoye\n",
      "Processing Record 21 of Set 11 | biak\n",
      "Processing Record 22 of Set 11 | noumea\n",
      "Processing Record 23 of Set 11 | anupshahr\n",
      "Processing Record 24 of Set 11 | kontagora\n",
      "Processing Record 25 of Set 11 | kudahuvadhoo\n",
      "Processing Record 26 of Set 11 | vuktyl\n",
      "Processing Record 27 of Set 11 | fuxin\n",
      "Processing Record 28 of Set 11 | lahij\n",
      "Processing Record 29 of Set 11 | champasak\n",
      "Processing Record 30 of Set 11 | boa vista\n",
      "Processing Record 31 of Set 11 | svetlogorsk\n",
      "Processing Record 32 of Set 11 | salalah\n",
      "Processing Record 33 of Set 11 | mpanda\n",
      "Processing Record 34 of Set 11 | nago\n",
      "Processing Record 35 of Set 11 | samarai\n",
      "Processing Record 36 of Set 11 | denpasar\n",
      "Processing Record 37 of Set 11 | wanning\n",
      "Processing Record 38 of Set 11 | sola\n",
      "Processing Record 39 of Set 11 | devyatka\n",
      "City not found. Skipping...\n",
      "Processing Record 40 of Set 11 | bonavista\n",
      "Processing Record 41 of Set 11 | ulaanbaatar\n",
      "Processing Record 42 of Set 11 | sovetskiy\n",
      "Processing Record 43 of Set 11 | peddapuram\n",
      "Processing Record 44 of Set 11 | aksu\n",
      "Processing Record 45 of Set 11 | beroroha\n",
      "Processing Record 46 of Set 11 | volksrust\n",
      "Processing Record 47 of Set 11 | marzuq\n",
      "Processing Record 48 of Set 11 | dallas\n",
      "Processing Record 49 of Set 11 | glebychevo\n",
      "Processing Record 50 of Set 11 | varzelandia\n",
      "Processing Record 1 of Set 12 | alta floresta\n",
      "Processing Record 2 of Set 12 | kruisfontein\n",
      "Processing Record 3 of Set 12 | pontianak\n",
      "Processing Record 4 of Set 12 | sorland\n",
      "Processing Record 5 of Set 12 | evensk\n",
      "Processing Record 6 of Set 12 | hamilton\n",
      "Processing Record 7 of Set 12 | wewak\n",
      "Processing Record 8 of Set 12 | sangmelima\n",
      "Processing Record 9 of Set 12 | mayo\n",
      "Processing Record 10 of Set 12 | vila\n",
      "Processing Record 11 of Set 12 | el penon\n",
      "Processing Record 12 of Set 12 | san andres\n",
      "Processing Record 13 of Set 12 | bemidji\n",
      "Processing Record 14 of Set 12 | northam\n",
      "Processing Record 15 of Set 12 | banda aceh\n",
      "Processing Record 16 of Set 12 | charlottesville\n",
      "Processing Record 17 of Set 12 | aguada de pasajeros\n",
      "Processing Record 18 of Set 12 | los llanos de aridane\n",
      "Processing Record 19 of Set 12 | tougue\n",
      "Processing Record 20 of Set 12 | saanen\n",
      "Processing Record 21 of Set 12 | price\n",
      "Processing Record 22 of Set 12 | canutama\n"
     ]
    },
    {
     "name": "stdout",
     "output_type": "stream",
     "text": [
      "Processing Record 23 of Set 12 | the valley\n",
      "Processing Record 24 of Set 12 | umzimvubu\n",
      "City not found. Skipping...\n",
      "Processing Record 25 of Set 12 | nuuk\n",
      "Processing Record 26 of Set 12 | sao manuel\n",
      "Processing Record 27 of Set 12 | tomohon\n",
      "Processing Record 28 of Set 12 | ponta do sol\n",
      "Processing Record 29 of Set 12 | srandakan\n",
      "Processing Record 30 of Set 12 | tessalit\n",
      "Processing Record 31 of Set 12 | shubarkuduk\n",
      "Processing Record 32 of Set 12 | gurgan\n",
      "City not found. Skipping...\n",
      "Processing Record 33 of Set 12 | puerto escondido\n",
      "Processing Record 34 of Set 12 | maniitsoq\n",
      "Processing Record 35 of Set 12 | perth\n",
      "Processing Record 36 of Set 12 | atherton\n",
      "Processing Record 37 of Set 12 | el carmen\n",
      "Processing Record 38 of Set 12 | temaraia\n",
      "City not found. Skipping...\n",
      "Processing Record 39 of Set 12 | erdenet\n",
      "Processing Record 40 of Set 12 | carballo\n",
      "Processing Record 41 of Set 12 | mbour\n",
      "Processing Record 42 of Set 12 | farafangana\n",
      "Processing Record 43 of Set 12 | oktyabrskoye\n",
      "Processing Record 44 of Set 12 | pokaran\n",
      "Processing Record 45 of Set 12 | krutinka\n",
      "Processing Record 46 of Set 12 | stornoway\n",
      "Processing Record 47 of Set 12 | cazones\n",
      "Processing Record 48 of Set 12 | amapa\n",
      "Processing Record 49 of Set 12 | norton shores\n",
      "Processing Record 50 of Set 12 | barsovo\n",
      "Processing Record 1 of Set 13 | luganville\n",
      "Processing Record 2 of Set 13 | killybegs\n",
      "Processing Record 3 of Set 13 | bonthe\n",
      "Processing Record 4 of Set 13 | ketchikan\n",
      "Processing Record 5 of Set 13 | qrendi\n",
      "Processing Record 6 of Set 13 | katherine\n",
      "Processing Record 7 of Set 13 | klaksvik\n",
      "Processing Record 8 of Set 13 | talnakh\n",
      "Processing Record 9 of Set 13 | sibu\n",
      "Processing Record 10 of Set 13 | ilhabela\n",
      "Processing Record 11 of Set 13 | pundaguitan\n",
      "Processing Record 12 of Set 13 | tommot\n",
      "Processing Record 13 of Set 13 | kutum\n",
      "Completed\n"
     ]
    }
   ],
   "source": [
    "\n",
    "# Create a base url\n",
    "base_url = \"http://api.openweathermap.org/data/2.5/weather?units=imperial&appid=\" + weather_api_key\n",
    "\n",
    "# Counters\n",
    "city_counter = 1\n",
    "set_counter = 1\n",
    "\n",
    "# Create the lists to hold relative data\n",
    "cities_list= []\n",
    "cloudiness = []\n",
    "country = []\n",
    "date = []\n",
    "humidity = []\n",
    "lat = []\n",
    "lng = []\n",
    "max_temp = []\n",
    "wind_speed = []\n",
    "print(\"Started\")\n",
    "\n",
    "# Create a query url for each city in the cities list to get json response\n",
    "for i, city in enumerate(cities):\n",
    "    \n",
    "    # Group cities as sets of 50s\n",
    "    if (i % 50 == 0 and i >= 50):\n",
    "        set_counter += 1\n",
    "        city_counter = 1\n",
    "         \n",
    "    # Create API url for each city\n",
    "    query_url = base_url +\"&q=\" + city\n",
    "    \n",
    "    # Get json respose for each city\n",
    "    response = requests.get(query_url).json()\n",
    "    \n",
    "    # Print the results \n",
    "    print(f\"Processing Record {city_counter} of Set {set_counter} | {city}\")\n",
    "    \n",
    "    # Increase city counter\n",
    "    city_counter += 1\n",
    "      # Add the values to the lists\n",
    "    try:       \n",
    "        cloudiness.append(response[\"clouds\"][\"all\"])\n",
    "        country.append(response[\"sys\"][\"country\"])\n",
    "        date.append(response[\"dt\"])\n",
    "        humidity.append(response[\"main\"][\"humidity\"])\n",
    "        lat.append(response[\"coord\"][\"lat\"])\n",
    "        lng.append(response[\"coord\"][\"lon\"])\n",
    "        max_temp.append(response[\"main\"][\"temp_max\"])\n",
    "        wind_speed.append(response[\"wind\"][\"speed\"])\n",
    "        cities_list.append(response[\"name\"])\n",
    "    except:\n",
    "        print(\"City not found. Skipping...\")\n",
    "        pass\n",
    "        \n",
    "print(\"Completed\")"
   ]
  },
  {
   "cell_type": "code",
   "execution_count": 6,
   "metadata": {},
   "outputs": [
    {
     "data": {
      "text/plain": [
       "City          570\n",
       "Cloudiness    570\n",
       "Country       570\n",
       "Date          570\n",
       "Humidity      570\n",
       "Lat           570\n",
       "Lng           570\n",
       "Max Temp      570\n",
       "Wind Speed    570\n",
       "dtype: int64"
      ]
     },
     "execution_count": 6,
     "metadata": {},
     "output_type": "execute_result"
    }
   ],
   "source": [
    "# Create a dictionary to keep data \n",
    "weather_data = {\n",
    "     \"City\": cities_list,\n",
    "     \"Cloudiness\": cloudiness,\n",
    "     \"Country\": country,\n",
    "     \"Date\": date,\n",
    "     \"Humidity\": humidity,\n",
    "     \"Lat\": lat,\n",
    "     \"Lng\": lng,\n",
    "     \"Max Temp\": max_temp,\n",
    "     \"Wind Speed\": wind_speed    \n",
    " }\n",
    "\n",
    "# Create the data frame and count variables for each columns\n",
    "weather_df = pd.DataFrame(weather_data)\n",
    "weather_df.count()\n",
    "#weather_df.head()"
   ]
  },
  {
   "cell_type": "code",
   "execution_count": 24,
   "metadata": {},
   "outputs": [],
   "source": [
    "# export the city data in to a csv fil\n",
    "weather_df.to_csv(r'C:\\Users\\kahsay\\Documents\\Homework\\API HW - Instructions\\Instructions\\python-api-challenge\\output_data/my_weather_data.csv')\n"
   ]
  },
  {
   "cell_type": "code",
   "execution_count": 8,
   "metadata": {},
   "outputs": [
    {
     "data": {
      "text/html": [
       "<div>\n",
       "<style scoped>\n",
       "    .dataframe tbody tr th:only-of-type {\n",
       "        vertical-align: middle;\n",
       "    }\n",
       "\n",
       "    .dataframe tbody tr th {\n",
       "        vertical-align: top;\n",
       "    }\n",
       "\n",
       "    .dataframe thead th {\n",
       "        text-align: right;\n",
       "    }\n",
       "</style>\n",
       "<table border=\"1\" class=\"dataframe\">\n",
       "  <thead>\n",
       "    <tr style=\"text-align: right;\">\n",
       "      <th></th>\n",
       "      <th>City</th>\n",
       "      <th>Cloudiness</th>\n",
       "      <th>Country</th>\n",
       "      <th>Date</th>\n",
       "      <th>Humidity</th>\n",
       "      <th>Lat</th>\n",
       "      <th>Lng</th>\n",
       "      <th>Max Temp</th>\n",
       "      <th>Wind Speed</th>\n",
       "    </tr>\n",
       "  </thead>\n",
       "  <tbody>\n",
       "    <tr>\n",
       "      <td>0</td>\n",
       "      <td>Lompoc</td>\n",
       "      <td>1</td>\n",
       "      <td>US</td>\n",
       "      <td>1581813289</td>\n",
       "      <td>72</td>\n",
       "      <td>34.64</td>\n",
       "      <td>-120.46</td>\n",
       "      <td>66.00</td>\n",
       "      <td>11.41</td>\n",
       "    </tr>\n",
       "    <tr>\n",
       "      <td>1</td>\n",
       "      <td>Nikolskoye</td>\n",
       "      <td>75</td>\n",
       "      <td>RU</td>\n",
       "      <td>1581813455</td>\n",
       "      <td>84</td>\n",
       "      <td>59.70</td>\n",
       "      <td>30.79</td>\n",
       "      <td>35.60</td>\n",
       "      <td>13.42</td>\n",
       "    </tr>\n",
       "    <tr>\n",
       "      <td>2</td>\n",
       "      <td>Kodiak</td>\n",
       "      <td>75</td>\n",
       "      <td>US</td>\n",
       "      <td>1581813456</td>\n",
       "      <td>75</td>\n",
       "      <td>57.79</td>\n",
       "      <td>-152.41</td>\n",
       "      <td>32.00</td>\n",
       "      <td>12.15</td>\n",
       "    </tr>\n",
       "    <tr>\n",
       "      <td>3</td>\n",
       "      <td>Vaini</td>\n",
       "      <td>20</td>\n",
       "      <td>TO</td>\n",
       "      <td>1581813456</td>\n",
       "      <td>66</td>\n",
       "      <td>-21.20</td>\n",
       "      <td>-175.20</td>\n",
       "      <td>84.20</td>\n",
       "      <td>10.29</td>\n",
       "    </tr>\n",
       "    <tr>\n",
       "      <td>4</td>\n",
       "      <td>Airai</td>\n",
       "      <td>0</td>\n",
       "      <td>TL</td>\n",
       "      <td>1581813456</td>\n",
       "      <td>69</td>\n",
       "      <td>-8.93</td>\n",
       "      <td>125.41</td>\n",
       "      <td>76.33</td>\n",
       "      <td>1.50</td>\n",
       "    </tr>\n",
       "  </tbody>\n",
       "</table>\n",
       "</div>"
      ],
      "text/plain": [
       "         City  Cloudiness Country        Date  Humidity    Lat     Lng  \\\n",
       "0      Lompoc           1      US  1581813289        72  34.64 -120.46   \n",
       "1  Nikolskoye          75      RU  1581813455        84  59.70   30.79   \n",
       "2      Kodiak          75      US  1581813456        75  57.79 -152.41   \n",
       "3       Vaini          20      TO  1581813456        66 -21.20 -175.20   \n",
       "4       Airai           0      TL  1581813456        69  -8.93  125.41   \n",
       "\n",
       "   Max Temp  Wind Speed  \n",
       "0     66.00       11.41  \n",
       "1     35.60       13.42  \n",
       "2     32.00       12.15  \n",
       "3     84.20       10.29  \n",
       "4     76.33        1.50  "
      ]
     },
     "execution_count": 8,
     "metadata": {},
     "output_type": "execute_result"
    }
   ],
   "source": [
    "weather_df.head()"
   ]
  },
  {
   "cell_type": "markdown",
   "metadata": {},
   "source": [
    "### Plotting the Data\n",
    "* Use proper labeling of the plots using plot titles (including date of analysis) and axes labels.\n",
    "* Save the plotted figures as .pngs."
   ]
  },
  {
   "cell_type": "markdown",
   "metadata": {},
   "source": [
    "#### Latitude vs. Temperature Plot"
   ]
  },
  {
   "cell_type": "code",
   "execution_count": 9,
   "metadata": {
    "scrolled": true
   },
   "outputs": [
    {
     "data": {
      "image/png": "[encoded data removed]",
      "text/plain": [
       "<Figure size 432x288 with 1 Axes>"
      ]
     },
     "metadata": {
      "needs_background": "light"
     },
     "output_type": "display_data"
    }
   ],
   "source": [
    "# Create a scatter plot for Latitude vs Temp\n",
    "plt.scatter(weather_df['Lat'], weather_df['Max Temp'], marker='o', c='navy', edgecolor='black')\n",
    "plt.title(\"City Latitude Vs Max Temperature(%s)\" % time.strftime(\"%x\"))\n",
    "plt.xlabel('Latitude')\n",
    "plt.ylabel('Max Temperature')\n",
    "plt.grid()\n",
    "#plt.savefig('Images/temperature.png')\n",
    "plt.show()"
   ]
  },
  {
   "cell_type": "markdown",
   "metadata": {},
   "source": [
    "#### Latitude vs. Humidity Plot"
   ]
  },
  {
   "cell_type": "code",
   "execution_count": 10,
   "metadata": {},
   "outputs": [
    {
     "data": {
      "image/png": "[encoded data removed]",
      "text/plain": [
       "<Figure size 432x288 with 1 Axes>"
      ]
     },
     "metadata": {
      "needs_background": "light"
     },
     "output_type": "display_data"
    },
    {
     "data": {
      "text/plain": [
       "<Figure size 432x288 with 0 Axes>"
      ]
     },
     "metadata": {},
     "output_type": "display_data"
    }
   ],
   "source": [
    "#create a scatter plot Latitude Vs. Humidity\n",
    "plt.scatter(weather_df['Lat'], weather_df['Humidity'], marker='o', color='navy', edgecolor='black')\n",
    "plt.title(\"city Latitude Vs. Humidity (%s)\" % time.strftime(\"%x\"))\n",
    "plt.xlabel('Latitude')\n",
    "plt.ylabel('Humidity')\n",
    "plt.grid()\n",
    "plt.show()\n",
    "plt.savefig('scatplotlatitudemaxtemp')"
   ]
  },
  {
   "cell_type": "markdown",
   "metadata": {},
   "source": [
    "#### Latitude vs. Cloudiness Plot"
   ]
  },
  {
   "cell_type": "code",
   "execution_count": 11,
   "metadata": {},
   "outputs": [
    {
     "data": {
      "image/png": "[encoded data removed]",
      "text/plain": [
       "<Figure size 432x288 with 1 Axes>"
      ]
     },
     "metadata": {
      "needs_background": "light"
     },
     "output_type": "display_data"
    }
   ],
   "source": [
    "# create a scatter Latitude Vs Cloudiness \n",
    "plt.scatter(weather_df['Lat'], weather_df['Cloudiness'], marker='o', facecolor='navy', edgecolor='black')\n",
    "plt.title(\" City Latitude Vs Cloudiness (%s)\" % time.strftime(\"%x\"))\n",
    "plt.xlabel('Latitude')\n",
    "plt.ylabel('Cludiness')\n",
    "plt.grid()\n",
    "plt.savefig('')\n",
    "plt.show()\n"
   ]
  },
  {
   "cell_type": "markdown",
   "metadata": {},
   "source": [
    "#### Latitude vs. Wind Speed Plot"
   ]
  },
  {
   "cell_type": "code",
   "execution_count": 12,
   "metadata": {},
   "outputs": [
    {
     "data": {
      "image/png": "[encoded data removed]",
      "text/plain": [
       "<Figure size 432x288 with 1 Axes>"
      ]
     },
     "metadata": {
      "needs_background": "light"
     },
     "output_type": "display_data"
    }
   ],
   "source": [
    "# Create a scatter plot of Latitude Vs wind Speed plot\n",
    "plt.scatter(weather_df['Lat'], weather_df['Wind Speed'], marker='o', facecolor='navy',edgecolor='black')\n",
    "plt.title( ' city Latitude Vs. Wind Speed')\n",
    "plt.xlabel('Latitude')\n",
    "plt.ylabel('Wind Speed')\n",
    "plt.grid()\n",
    "plt.savefig('')\n",
    "plt.show()"
   ]
  },
  {
   "cell_type": "markdown",
   "metadata": {},
   "source": [
    "## Linear Regression"
   ]
  },
  {
   "cell_type": "code",
   "execution_count": 13,
   "metadata": {},
   "outputs": [
    {
     "data": {
      "text/plain": [
       "Index(['City', 'Cloudiness', 'Country', 'Date', 'Humidity', 'Lat', 'Lng',\n",
       "       'Max Temp', 'Wind Speed'],\n",
       "      dtype='object')"
      ]
     },
     "execution_count": 13,
     "metadata": {},
     "output_type": "execute_result"
    }
   ],
   "source": [
    "weather_df.columns"
   ]
  },
  {
   "cell_type": "code",
   "execution_count": 14,
   "metadata": {},
   "outputs": [],
   "source": [
    "# OPTIONAL: Create a function to create Linear Regression plots\n",
    "# use the function Y=mx + b\n",
    "def plot_linear_regression(x_values, y_values, title, text_coordinates):\n",
    "    (slope, intercept, rvalue, pvalue, stderr) = linregress(x_values, y_values)\n",
    "    regress_values = x_values * slope + intercept\n",
    "    line_eq = \"y = \" + str(round(slope,2)) + \"x + \" + str(round(intercept,2))\n",
    "    plt.scatter(x_values,y_values)\n",
    "    plt.plot(x_values,regress_values,\"r-\")\n",
    "    plt.annotate(line_eq,text_coordinates,fontsize=14,color=\"red\")\n",
    "    plt.xlabel(\"Latitude\")\n",
    "    plt.ylabel(title)\n",
    "    print(f\"The r-squared is: {rvalue}\")\n",
    "    plt.show()\n",
    "    "
   ]
  },
  {
   "cell_type": "code",
   "execution_count": 15,
   "metadata": {},
   "outputs": [
    {
     "data": {
      "text/html": [
       "<div>\n",
       "<style scoped>\n",
       "    .dataframe tbody tr th:only-of-type {\n",
       "        vertical-align: middle;\n",
       "    }\n",
       "\n",
       "    .dataframe tbody tr th {\n",
       "        vertical-align: top;\n",
       "    }\n",
       "\n",
       "    .dataframe thead th {\n",
       "        text-align: right;\n",
       "    }\n",
       "</style>\n",
       "<table border=\"1\" class=\"dataframe\">\n",
       "  <thead>\n",
       "    <tr style=\"text-align: right;\">\n",
       "      <th></th>\n",
       "      <th>City</th>\n",
       "      <th>Cloudiness</th>\n",
       "      <th>Country</th>\n",
       "      <th>Date</th>\n",
       "      <th>Humidity</th>\n",
       "      <th>Lat</th>\n",
       "      <th>Lng</th>\n",
       "      <th>Max Temp</th>\n",
       "      <th>Wind Speed</th>\n",
       "    </tr>\n",
       "  </thead>\n",
       "  <tbody>\n",
       "    <tr>\n",
       "      <td>0</td>\n",
       "      <td>Lompoc</td>\n",
       "      <td>1</td>\n",
       "      <td>US</td>\n",
       "      <td>1581813289</td>\n",
       "      <td>72</td>\n",
       "      <td>34.64</td>\n",
       "      <td>-120.46</td>\n",
       "      <td>66.00</td>\n",
       "      <td>11.41</td>\n",
       "    </tr>\n",
       "    <tr>\n",
       "      <td>1</td>\n",
       "      <td>Nikolskoye</td>\n",
       "      <td>75</td>\n",
       "      <td>RU</td>\n",
       "      <td>1581813455</td>\n",
       "      <td>84</td>\n",
       "      <td>59.70</td>\n",
       "      <td>30.79</td>\n",
       "      <td>35.60</td>\n",
       "      <td>13.42</td>\n",
       "    </tr>\n",
       "    <tr>\n",
       "      <td>2</td>\n",
       "      <td>Kodiak</td>\n",
       "      <td>75</td>\n",
       "      <td>US</td>\n",
       "      <td>1581813456</td>\n",
       "      <td>75</td>\n",
       "      <td>57.79</td>\n",
       "      <td>-152.41</td>\n",
       "      <td>32.00</td>\n",
       "      <td>12.15</td>\n",
       "    </tr>\n",
       "    <tr>\n",
       "      <td>5</td>\n",
       "      <td>Aleksandrov Gay</td>\n",
       "      <td>82</td>\n",
       "      <td>RU</td>\n",
       "      <td>1581813456</td>\n",
       "      <td>95</td>\n",
       "      <td>50.15</td>\n",
       "      <td>48.57</td>\n",
       "      <td>22.37</td>\n",
       "      <td>5.99</td>\n",
       "    </tr>\n",
       "    <tr>\n",
       "      <td>9</td>\n",
       "      <td>Joshimath</td>\n",
       "      <td>23</td>\n",
       "      <td>IN</td>\n",
       "      <td>1581813457</td>\n",
       "      <td>26</td>\n",
       "      <td>30.57</td>\n",
       "      <td>79.57</td>\n",
       "      <td>35.89</td>\n",
       "      <td>9.71</td>\n",
       "    </tr>\n",
       "  </tbody>\n",
       "</table>\n",
       "</div>"
      ],
      "text/plain": [
       "              City  Cloudiness Country        Date  Humidity    Lat     Lng  \\\n",
       "0           Lompoc           1      US  1581813289        72  34.64 -120.46   \n",
       "1       Nikolskoye          75      RU  1581813455        84  59.70   30.79   \n",
       "2           Kodiak          75      US  1581813456        75  57.79 -152.41   \n",
       "5  Aleksandrov Gay          82      RU  1581813456        95  50.15   48.57   \n",
       "9        Joshimath          23      IN  1581813457        26  30.57   79.57   \n",
       "\n",
       "   Max Temp  Wind Speed  \n",
       "0     66.00       11.41  \n",
       "1     35.60       13.42  \n",
       "2     32.00       12.15  \n",
       "5     22.37        5.99  \n",
       "9     35.89        9.71  "
      ]
     },
     "execution_count": 15,
     "metadata": {},
     "output_type": "execute_result"
    }
   ],
   "source": [
    "# Create Northern and Southern Hemisphere DataFrames\n",
    "northlat_df = weather_df.loc[weather_df[\"Lat\"] >= 0,:]\n",
    "southlat_df = weather_df.loc[weather_df[\"Lat\"] < 0,:]\n",
    "\n",
    "northlat_df.head()"
   ]
  },
  {
   "cell_type": "markdown",
   "metadata": {},
   "source": [
    "####  Northern Hemisphere - Max Temp vs. Latitude Linear Regression"
   ]
  },
  {
   "cell_type": "code",
   "execution_count": 16,
   "metadata": {},
   "outputs": [
    {
     "ename": "NameError",
     "evalue": "name 'plot_linear_regration' is not defined",
     "output_type": "error",
     "traceback": [
      "\u001b[1;31m---------------------------------------------------------------------------\u001b[0m",
      "\u001b[1;31mNameError\u001b[0m                                 Traceback (most recent call last)",
      "\u001b[1;32m<ipython-input-16-10ec0afac6f9>\u001b[0m in \u001b[0;36m<module>\u001b[1;34m\u001b[0m\n\u001b[0;32m      2\u001b[0m \u001b[0my_values\u001b[0m \u001b[1;33m=\u001b[0m \u001b[0mnorthlat_df\u001b[0m\u001b[1;33m[\u001b[0m\u001b[1;34m\"Max Temp\"\u001b[0m\u001b[1;33m]\u001b[0m\u001b[1;33m\u001b[0m\u001b[1;33m\u001b[0m\u001b[0m\n\u001b[0;32m      3\u001b[0m \u001b[1;33m\u001b[0m\u001b[0m\n\u001b[1;32m----> 4\u001b[1;33m \u001b[0mplot_linear_regration\u001b[0m\u001b[1;33m(\u001b[0m\u001b[0mx_values\u001b[0m\u001b[1;33m,\u001b[0m\u001b[0my_values\u001b[0m\u001b[1;33m,\u001b[0m\u001b[1;34m'Max Temp'\u001b[0m\u001b[1;33m,\u001b[0m\u001b[1;33m(\u001b[0m\u001b[1;36m6\u001b[0m\u001b[1;33m,\u001b[0m\u001b[1;36m30\u001b[0m\u001b[1;33m)\u001b[0m\u001b[1;33m)\u001b[0m\u001b[1;33m\u001b[0m\u001b[1;33m\u001b[0m\u001b[0m\n\u001b[0m\u001b[0;32m      5\u001b[0m \u001b[1;33m\u001b[0m\u001b[0m\n\u001b[0;32m      6\u001b[0m \u001b[1;31m#plt.savefig('northerntemplat')\u001b[0m\u001b[1;33m\u001b[0m\u001b[1;33m\u001b[0m\u001b[1;33m\u001b[0m\u001b[0m\n",
      "\u001b[1;31mNameError\u001b[0m: name 'plot_linear_regration' is not defined"
     ]
    }
   ],
   "source": [
    "x_values = northlat_df[\"Lat\"]\n",
    "y_values = northlat_df[\"Max Temp\"]\n",
    "\n",
    "plot_linear_regration(x_values,y_values,'Max Temp',(6,30))\n",
    "\n",
    "#plt.savefig('northerntemplat')"
   ]
  },
  {
   "cell_type": "markdown",
   "metadata": {},
   "source": [
    "####  Southern Hemisphere - Max Temp vs. Latitude Linear Regression"
   ]
  },
  {
   "cell_type": "code",
   "execution_count": 17,
   "metadata": {},
   "outputs": [
    {
     "name": "stdout",
     "output_type": "stream",
     "text": [
      "The r-squared is: 0.4598421522988607\n"
     ]
    },
    {
     "data": {
      "image/png": "[encoded data removed]",
      "text/plain": [
       "<Figure size 432x288 with 1 Axes>"
      ]
     },
     "metadata": {
      "needs_background": "light"
     },
     "output_type": "display_data"
    }
   ],
   "source": [
    "x_values = southlat_df[\"Lat\"]\n",
    "y_values = southlat_df[\"Max Temp\"]\n",
    "plot_linear_regression(x_values,y_values,'Max Temp',(6,30))\n",
    "\n",
    "#plt.savefig('southerntemplat')\n"
   ]
  },
  {
   "cell_type": "markdown",
   "metadata": {},
   "source": [
    "####  Northern Hemisphere - Humidity (%) vs. Latitude Linear Regression"
   ]
  },
  {
   "cell_type": "code",
   "execution_count": 18,
   "metadata": {},
   "outputs": [
    {
     "name": "stdout",
     "output_type": "stream",
     "text": [
      "The r-squared is: 0.3124262712596757\n"
     ]
    },
    {
     "data": {
      "image/png": "[encoded data removed]",
      "text/plain": [
       "<Figure size 432x288 with 1 Axes>"
      ]
     },
     "metadata": {
      "needs_background": "light"
     },
     "output_type": "display_data"
    },
    {
     "data": {
      "text/plain": [
       "<Figure size 432x288 with 0 Axes>"
      ]
     },
     "metadata": {},
     "output_type": "display_data"
    }
   ],
   "source": [
    "\n",
    "x_values = northlat_df[\"Lat\"]\n",
    "y_values = northlat_df[\"Humidity\"]\n",
    "plot_linear_regression(x_values,y_values,'Humidity',(6,30))\n",
    "\n",
    "plt.savefig('northernhumlat')"
   ]
  },
  {
   "cell_type": "markdown",
   "metadata": {},
   "source": [
    "####  Southern Hemisphere - Humidity (%) vs. Latitude Linear Regression"
   ]
  },
  {
   "cell_type": "code",
   "execution_count": 19,
   "metadata": {},
   "outputs": [
    {
     "name": "stdout",
     "output_type": "stream",
     "text": [
      "The r-squared is: 0.25371892725330963\n"
     ]
    },
    {
     "data": {
      "image/png": "[encoded data removed]",
      "text/plain": [
       "<Figure size 432x288 with 1 Axes>"
      ]
     },
     "metadata": {
      "needs_background": "light"
     },
     "output_type": "display_data"
    }
   ],
   "source": [
    "x_values = southlat_df[\"Lat\"]\n",
    "y_values = southlat_df[\"Humidity\"]\n",
    "plot_linear_regression(x_values,y_values,'Humidity',(6,30))\n",
    "\n",
    "#plt.savefig('southernhumlat')"
   ]
  },
  {
   "cell_type": "markdown",
   "metadata": {},
   "source": [
    "####  Northern Hemisphere - Cloudiness (%) vs. Latitude Linear Regression"
   ]
  },
  {
   "cell_type": "code",
   "execution_count": 20,
   "metadata": {},
   "outputs": [
    {
     "name": "stdout",
     "output_type": "stream",
     "text": [
      "The r-squared is: 0.3935581189751448\n"
     ]
    },
    {
     "data": {
      "image/png": "[encoded data removed]",
      "text/plain": [
       "<Figure size 432x288 with 1 Axes>"
      ]
     },
     "metadata": {
      "needs_background": "light"
     },
     "output_type": "display_data"
    },
    {
     "data": {
      "text/plain": [
       "<Figure size 432x288 with 0 Axes>"
      ]
     },
     "metadata": {},
     "output_type": "display_data"
    }
   ],
   "source": [
    "\n",
    "x_values = northlat_df[\"Lat\"]\n",
    "y_values = northlat_df[\"Cloudiness\"]\n",
    "plot_linear_regression(x_values,y_values,'Cloudiness',(6,30))\n",
    "\n",
    "plt.savefig('northernwindlat')"
   ]
  },
  {
   "cell_type": "markdown",
   "metadata": {},
   "source": [
    "####  Southern Hemisphere - Cloudiness (%) vs. Latitude Linear Regression"
   ]
  },
  {
   "cell_type": "code",
   "execution_count": 21,
   "metadata": {},
   "outputs": [
    {
     "name": "stdout",
     "output_type": "stream",
     "text": [
      "The r-squared is: 0.0701434326828596\n"
     ]
    },
    {
     "data": {
      "image/png": "[encoded data removed]",
      "text/plain": [
       "<Figure size 432x288 with 1 Axes>"
      ]
     },
     "metadata": {
      "needs_background": "light"
     },
     "output_type": "display_data"
    },
    {
     "data": {
      "text/plain": [
       "<Figure size 432x288 with 0 Axes>"
      ]
     },
     "metadata": {},
     "output_type": "display_data"
    }
   ],
   "source": [
    "\n",
    "x_values = southlat_df[\"Lat\"]\n",
    "y_values = southlat_df[\"Cloudiness\"]\n",
    "plot_linear_regression(x_values,y_values,'Cloudiness',(6,30))\n",
    "\n",
    "plt.savefig('southernCloudiness')\n"
   ]
  },
  {
   "cell_type": "markdown",
   "metadata": {},
   "source": [
    "####  Northern Hemisphere - Wind Speed (mph) vs. Latitude Linear Regression"
   ]
  },
  {
   "cell_type": "code",
   "execution_count": 22,
   "metadata": {},
   "outputs": [
    {
     "name": "stdout",
     "output_type": "stream",
     "text": [
      "The r-squared is: 0.20682931878190783\n"
     ]
    },
    {
     "data": {
      "image/png": "[encoded data removed]",
      "text/plain": [
       "<Figure size 432x288 with 1 Axes>"
      ]
     },
     "metadata": {
      "needs_background": "light"
     },
     "output_type": "display_data"
    },
    {
     "data": {
      "text/plain": [
       "<Figure size 432x288 with 0 Axes>"
      ]
     },
     "metadata": {},
     "output_type": "display_data"
    }
   ],
   "source": [
    "\n",
    "x_values = northlat_df[\"Lat\"]\n",
    "y_values = northlat_df[\"Wind Speed\"]\n",
    "plot_linear_regression(x_values,y_values,'Wind Speed',(6,30))\n",
    "\n",
    "plt.savefig('southernwindlat')\n"
   ]
  },
  {
   "cell_type": "markdown",
   "metadata": {},
   "source": [
    "####  Southern Hemisphere - Wind Speed (mph) vs. Latitude Linear Regression"
   ]
  },
  {
   "cell_type": "code",
   "execution_count": 23,
   "metadata": {},
   "outputs": [
    {
     "name": "stdout",
     "output_type": "stream",
     "text": [
      "The r-squared is: -0.3166008016095776\n"
     ]
    },
    {
     "data": {
      "image/png": "[encoded data removed]",
      "text/plain": [
       "<Figure size 432x288 with 1 Axes>"
      ]
     },
     "metadata": {
      "needs_background": "light"
     },
     "output_type": "display_data"
    },
    {
     "data": {
      "text/plain": [
       "<Figure size 432x288 with 0 Axes>"
      ]
     },
     "metadata": {},
     "output_type": "display_data"
    }
   ],
   "source": [
    "x_values = southlat_df[\"Lat\"]\n",
    "y_values = southlat_df[\"Wind Speed\"]\n",
    "plot_linear_regression(x_values,y_values,'Wind Speed',(6,30))\n",
    "\n",
    "plt.savefig('C:/Users/kahsay/Documents/Homework/API HW - Instructions/Instructions/Images/southernwindlat.png', transparent=True, bbox_inches='tight')\n",
    "\n",
    "\n"
   ]
  },
  {
   "cell_type": "code",
   "execution_count": null,
   "metadata": {},
   "outputs": [],
   "source": []
  },
  {
   "cell_type": "code",
   "execution_count": null,
   "metadata": {},
   "outputs": [],
   "source": []
  }
 ],
 "metadata": {
  "anaconda-cloud": {},
  "kernel_info": {
   "name": "python3"
  },
  "kernelspec": {
   "display_name": "Python 3",
   "language": "python",
   "name": "python3"
  },
  "language_info": {
   "codemirror_mode": {
    "name": "ipython",
    "version": 3
   },
   "file_extension": ".py",
   "mimetype": "text/x-python",
   "name": "python",
   "nbconvert_exporter": "python",
   "pygments_lexer": "ipython3",
   "version": "3.7.4"
  },
  "latex_envs": {
   "LaTeX_envs_menu_present": true,
   "autoclose": false,
   "autocomplete": true,
   "bibliofile": "biblio.bib",
   "cite_by": "apalike",
   "current_citInitial": 1,
   "eqLabelWithNumbers": true,
   "eqNumInitial": 1,
   "hotkeys": {
    "equation": "Ctrl-E",
    "itemize": "Ctrl-I"
   },
   "labels_anchors": false,
   "latex_user_defs": false,
   "report_style_numbering": false,
   "user_envs_cfg": false
  },
  "nteract": {
   "version": "0.12.3"
  }
 },
 "nbformat": 4,
 "nbformat_minor": 2
}
